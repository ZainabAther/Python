{
 "cells": [
  {
   "cell_type": "markdown",
   "id": "e7f57062",
   "metadata": {},
   "source": [
    "1. Write Python Program to Swap Two Variables"
   ]
  },
  {
   "cell_type": "code",
   "execution_count": 26,
   "id": "8891bc7d",
   "metadata": {},
   "outputs": [
    {
     "name": "stdout",
     "output_type": "stream",
     "text": [
      "x= 9 \n",
      " y= 3\n"
     ]
    }
   ],
   "source": [
    "x = 3\n",
    "y = 9\n",
    "\n",
    "x,y = y,x\n",
    "\n",
    "print ((\"x= \" + str(x)),'\\n', (\"y= \" + str(y)))"
   ]
  },
  {
   "cell_type": "markdown",
   "id": "b043c5fc",
   "metadata": {},
   "source": [
    "2. Write Python Program to Check Leap Year"
   ]
  },
  {
   "cell_type": "code",
   "execution_count": 28,
   "id": "51348b14",
   "metadata": {},
   "outputs": [
    {
     "name": "stdout",
     "output_type": "stream",
     "text": [
      "2002 is not a leap year\n",
      "1904 is a leap year\n",
      "2011 is not a leap year\n"
     ]
    }
   ],
   "source": [
    "def is_leap_year(year):\n",
    "    if year % 4 == 0:\n",
    "        if year % 100 == 0:\n",
    "            if year % 400 == 0:\n",
    "                return True\n",
    "            else:\n",
    "                return False\n",
    "        else:\n",
    "            return True\n",
    "    else:\n",
    "        return False\n",
    "\n",
    "# Test the function\n",
    "year = 2002\n",
    "if is_leap_year(year):\n",
    "    print(f\"{year} is a leap year\")\n",
    "else:\n",
    "    print(f\"{year} is not a leap year\")\n",
    "\n",
    "year = 1904\n",
    "if is_leap_year(year):\n",
    "    print(f\"{year} is a leap year\")\n",
    "else:\n",
    "    print(f\"{year} is not a leap year\")\n",
    "\n",
    "year = 2011\n",
    "if is_leap_year(year):\n",
    "    print(f\"{year} is a leap year\")\n",
    "else:\n",
    "    print(f\"{year} is not a leap year\")"
   ]
  },
  {
   "cell_type": "markdown",
   "id": "b962ef8a",
   "metadata": {},
   "source": [
    "3. Write Python Program to Find the Sum of Natural Numbers"
   ]
  },
  {
   "cell_type": "code",
   "execution_count": 32,
   "id": "d13a708f",
   "metadata": {},
   "outputs": [
    {
     "name": "stdout",
     "output_type": "stream",
     "text": [
      "The sum of natural numbers up to 10 is 55\n",
      "The sum of natural numbers up to 20 is 210\n"
     ]
    }
   ],
   "source": [
    "def sum_of_natural_numbers(n):\n",
    "    total = 0\n",
    "    for i in range(1, n+1):\n",
    "        total += i\n",
    "    return total\n",
    "\n",
    "# Test the function\n",
    "n = 10\n",
    "result = sum_of_natural_numbers(n)\n",
    "print(f\"The sum of natural numbers up to {n} is {result}\")\n",
    "\n",
    "n = 20\n",
    "result = sum_of_natural_numbers(n)\n",
    "print(f\"The sum of natural numbers up to {n} is {result}\")"
   ]
  },
  {
   "cell_type": "code",
   "execution_count": 34,
   "id": "f5d50830",
   "metadata": {},
   "outputs": [
    {
     "name": "stdout",
     "output_type": "stream",
     "text": [
      "55\n"
     ]
    }
   ],
   "source": [
    "def sum_of_nn(n):\n",
    "    total = 0\n",
    "    for i in range(1, n+1):\n",
    "        total += i\n",
    "    return total\n",
    "\n",
    "n= 10\n",
    "result = sum_of_nn(n)\n",
    "print(result)"
   ]
  },
  {
   "cell_type": "code",
   "execution_count": null,
   "id": "17dd9afd",
   "metadata": {},
   "outputs": [],
   "source": []
  }
 ],
 "metadata": {
  "kernelspec": {
   "display_name": "Python 3 (ipykernel)",
   "language": "python",
   "name": "python3"
  },
  "language_info": {
   "codemirror_mode": {
    "name": "ipython",
    "version": 3
   },
   "file_extension": ".py",
   "mimetype": "text/x-python",
   "name": "python",
   "nbconvert_exporter": "python",
   "pygments_lexer": "ipython3",
   "version": "3.11.3"
  }
 },
 "nbformat": 4,
 "nbformat_minor": 5
}
